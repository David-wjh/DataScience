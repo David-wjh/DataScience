{
  "nbformat": 4,
  "nbformat_minor": 0,
  "metadata": {
    "colab": {
      "provenance": []
    },
    "kernelspec": {
      "name": "python3",
      "display_name": "Python 3"
    },
    "language_info": {
      "name": "python"
    }
  },
  "cells": [
    {
      "cell_type": "code",
      "execution_count": null,
      "metadata": {
        "id": "9xy4XLS6-HLN"
      },
      "outputs": [],
      "source": []
    },
    {
      "cell_type": "markdown",
      "source": [
        "#Data Science Tools and Ecosystem"
      ],
      "metadata": {
        "id": "2coVK6A0-7ve"
      }
    },
    {
      "cell_type": "markdown",
      "source": [
        "In this notebook, Data Science Tools and Ecosystem are summarized.\n"
      ],
      "metadata": {
        "id": "sX549Ujy_-Dc"
      }
    },
    {
      "cell_type": "markdown",
      "source": [
        "**Objectives:**\n",
        "\n",
        "\n",
        "*   List popular languages for Data Science\n",
        "*   List commonly used libraries used by Data Scientists\n",
        "*   List popular development enviroment open source tools used in Data Science\n",
        "*   List arithmetic expression examples\n",
        "   \n",
        "\n",
        "\n",
        "\n"
      ],
      "metadata": {
        "id": "lujA--UtHF1V"
      }
    },
    {
      "cell_type": "markdown",
      "source": [
        "Some of the popular languages that Data Scientists use are:\n",
        "\n",
        "\n",
        "1.   Python\n",
        "2.   R\n",
        "3.   Julia\n",
        "4.   Java\n",
        "5.   C++\n",
        "6.   SQL\n"
      ],
      "metadata": {
        "id": "Rj-ckWa8Al5p"
      }
    },
    {
      "cell_type": "markdown",
      "source": [
        "Some of the commonly used libraries used by Data Scientists include:\n",
        "1. Numpy\n",
        "2. Pandas\n",
        "3. Matplotlib\n",
        "4. Scikit-learn\n",
        "5. Tensorflow\n",
        "6. Keras\n",
        "7. PyTorch"
      ],
      "metadata": {
        "id": "RhBi-ryIBj7O"
      }
    },
    {
      "cell_type": "markdown",
      "source": [
        "| Data Science Tools |\n",
        "|:------------------:|\n",
        "|Jupyter Notebook|\n",
        "|Jupyterlab|\n",
        "|JupyterLit|\n",
        "|JupyterCoor|\n",
        "|RStudio|\n",
        "|Vscode|\n",
        "|Git|\n"
      ],
      "metadata": {
        "id": "ixjT6DI-DH_M"
      }
    },
    {
      "cell_type": "markdown",
      "source": [
        "###Below are a few example of evaluating arithmetic expressions in Python"
      ],
      "metadata": {
        "id": "cn75shPvEzd7"
      }
    },
    {
      "cell_type": "code",
      "source": [
        "# This is a simple arithmetric expression to mutiply then add integers\n",
        "(3*4)+5"
      ],
      "metadata": {
        "colab": {
          "base_uri": "https://localhost:8080/"
        },
        "id": "qLGM5f9BFezq",
        "outputId": "3779f0b0-3bc6-49bd-efef-757ceeecf527"
      },
      "execution_count": 4,
      "outputs": [
        {
          "output_type": "execute_result",
          "data": {
            "text/plain": [
              "17"
            ]
          },
          "metadata": {},
          "execution_count": 4
        }
      ]
    },
    {
      "cell_type": "code",
      "source": [
        "#This will convert 200 minutes to hours by dividing by 60\n",
        "200/60"
      ],
      "metadata": {
        "colab": {
          "base_uri": "https://localhost:8080/"
        },
        "id": "DmsGtaMJGX3-",
        "outputId": "ff61ed3f-c978-4077-819c-6ad9513cac27"
      },
      "execution_count": 5,
      "outputs": [
        {
          "output_type": "execute_result",
          "data": {
            "text/plain": [
              "3.3333333333333335"
            ]
          },
          "metadata": {},
          "execution_count": 5
        }
      ]
    },
    {
      "cell_type": "markdown",
      "source": [
        "## Author\n",
        "David Wang"
      ],
      "metadata": {
        "id": "fvftLH3VIrvx"
      }
    }
  ]
}